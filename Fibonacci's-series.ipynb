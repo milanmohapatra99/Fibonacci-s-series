{
 "cells": [
  {
   "cell_type": "code",
   "execution_count": 1,
   "id": "729c0e2a",
   "metadata": {},
   "outputs": [
    {
     "name": "stdout",
     "output_type": "stream",
     "text": [
      "Enter the range of the number:-\n",
      "\t5\n",
      "fibonaccis series 5 is 1\n",
      "fibonaccis series 5 is 1\n",
      "fibonaccis series 5 is 2\n",
      "fibonaccis series 5 is 3\n",
      "fibonaccis series 5 is 5\n",
      "fibonaccis series 5 is 8\n"
     ]
    }
   ],
   "source": [
    "#w.a.p to display the fibonaccis series 1-n\n",
    "f1 = 0\n",
    "f2 = 1\n",
    "fib = 0\n",
    "n = int(input(\"Enter the range of the number:-\\n\\t\"))\n",
    "while(fib<=n):\n",
    "    f1=f2\n",
    "    f2=fib\n",
    "    fib=f1+f2\n",
    "    print(\"fibonaccis series\",n,\"is\",fib)"
   ]
  },
  {
   "cell_type": "code",
   "execution_count": null,
   "id": "3e73d497",
   "metadata": {},
   "outputs": [],
   "source": []
  }
 ],
 "metadata": {
  "kernelspec": {
   "display_name": "Python 3 (ipykernel)",
   "language": "python",
   "name": "python3"
  },
  "language_info": {
   "codemirror_mode": {
    "name": "ipython",
    "version": 3
   },
   "file_extension": ".py",
   "mimetype": "text/x-python",
   "name": "python",
   "nbconvert_exporter": "python",
   "pygments_lexer": "ipython3",
   "version": "3.9.7"
  }
 },
 "nbformat": 4,
 "nbformat_minor": 5
}
